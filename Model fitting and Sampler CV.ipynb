{
 "cells": [
  {
   "cell_type": "code",
   "execution_count": 48,
   "metadata": {},
   "outputs": [],
   "source": [
    "import pandas as pd\n",
    "import numpy as np\n",
    "from statistics import mean, stdev\n",
    "from sklearn.model_selection import train_test_split\n",
    "from sklearn.ensemble import RandomForestClassifier\n",
    "from xgboost import XGBClassifier\n",
    "import lightgbm as lgb\n",
    "from sklearn import metrics\n",
    "from imblearn.over_sampling import SMOTE, ADASYN\n",
    "from imblearn.under_sampling import RandomUnderSampler\n",
    "from sklearn.model_selection import StratifiedKFold\n",
    "from sklearn.model_selection import cross_val_score\n",
    "from matplotlib import pyplot\n",
    "from time import time\n",
    "from xgboost import plot_importance"
   ]
  },
  {
   "cell_type": "code",
   "execution_count": 2,
   "metadata": {},
   "outputs": [
    {
     "data": {
      "text/html": [
       "<div>\n",
       "<style scoped>\n",
       "    .dataframe tbody tr th:only-of-type {\n",
       "        vertical-align: middle;\n",
       "    }\n",
       "\n",
       "    .dataframe tbody tr th {\n",
       "        vertical-align: top;\n",
       "    }\n",
       "\n",
       "    .dataframe thead th {\n",
       "        text-align: right;\n",
       "    }\n",
       "</style>\n",
       "<table border=\"1\" class=\"dataframe\">\n",
       "  <thead>\n",
       "    <tr style=\"text-align: right;\">\n",
       "      <th></th>\n",
       "      <th>user_id</th>\n",
       "      <th>seller_id</th>\n",
       "      <th>label</th>\n",
       "      <th>user_gender_female</th>\n",
       "      <th>user_gender_male</th>\n",
       "      <th>user_gender_unknown</th>\n",
       "      <th>user_age_0_18</th>\n",
       "      <th>user_age_18_24</th>\n",
       "      <th>user_age_25_29</th>\n",
       "      <th>user_age_30_34</th>\n",
       "      <th>...</th>\n",
       "      <th>user_seller_add_to_favorite_cnt_db11_mth</th>\n",
       "      <th>user_seller_click_rt_db11</th>\n",
       "      <th>user_seller_purchase_rt_db11</th>\n",
       "      <th>user_seller_add_to_favorite_rt_db11</th>\n",
       "      <th>user_seller_click_rt_db11_wk</th>\n",
       "      <th>user_seller_purchase_rt_db11_wk</th>\n",
       "      <th>user_seller_add_to_favorite_rt_db11_wk</th>\n",
       "      <th>user_seller_click_rt_db11_mth</th>\n",
       "      <th>user_seller_purchase_rt_db11_mth</th>\n",
       "      <th>user_seller_add_to_favorite_rt_db11_mth</th>\n",
       "    </tr>\n",
       "  </thead>\n",
       "  <tbody>\n",
       "    <tr>\n",
       "      <td>0</td>\n",
       "      <td>34176</td>\n",
       "      <td>3906</td>\n",
       "      <td>0</td>\n",
       "      <td>1</td>\n",
       "      <td>0</td>\n",
       "      <td>0</td>\n",
       "      <td>0.0</td>\n",
       "      <td>0.0</td>\n",
       "      <td>0.0</td>\n",
       "      <td>0.0</td>\n",
       "      <td>...</td>\n",
       "      <td>0.0</td>\n",
       "      <td>0.0</td>\n",
       "      <td>0.0</td>\n",
       "      <td>0.0</td>\n",
       "      <td>0.0</td>\n",
       "      <td>0.0</td>\n",
       "      <td>0.0</td>\n",
       "      <td>0.0</td>\n",
       "      <td>0.0</td>\n",
       "      <td>0.0</td>\n",
       "    </tr>\n",
       "    <tr>\n",
       "      <td>1</td>\n",
       "      <td>34176</td>\n",
       "      <td>121</td>\n",
       "      <td>0</td>\n",
       "      <td>1</td>\n",
       "      <td>0</td>\n",
       "      <td>0</td>\n",
       "      <td>0.0</td>\n",
       "      <td>0.0</td>\n",
       "      <td>0.0</td>\n",
       "      <td>0.0</td>\n",
       "      <td>...</td>\n",
       "      <td>0.0</td>\n",
       "      <td>0.0</td>\n",
       "      <td>0.0</td>\n",
       "      <td>0.0</td>\n",
       "      <td>0.0</td>\n",
       "      <td>0.0</td>\n",
       "      <td>0.0</td>\n",
       "      <td>0.0</td>\n",
       "      <td>0.0</td>\n",
       "      <td>0.0</td>\n",
       "    </tr>\n",
       "    <tr>\n",
       "      <td>2</td>\n",
       "      <td>34176</td>\n",
       "      <td>4356</td>\n",
       "      <td>1</td>\n",
       "      <td>1</td>\n",
       "      <td>0</td>\n",
       "      <td>0</td>\n",
       "      <td>0.0</td>\n",
       "      <td>0.0</td>\n",
       "      <td>0.0</td>\n",
       "      <td>0.0</td>\n",
       "      <td>...</td>\n",
       "      <td>0.0</td>\n",
       "      <td>0.0</td>\n",
       "      <td>0.0</td>\n",
       "      <td>0.0</td>\n",
       "      <td>0.0</td>\n",
       "      <td>0.0</td>\n",
       "      <td>0.0</td>\n",
       "      <td>0.0</td>\n",
       "      <td>0.0</td>\n",
       "      <td>0.0</td>\n",
       "    </tr>\n",
       "    <tr>\n",
       "      <td>3</td>\n",
       "      <td>34176</td>\n",
       "      <td>2217</td>\n",
       "      <td>0</td>\n",
       "      <td>1</td>\n",
       "      <td>0</td>\n",
       "      <td>0</td>\n",
       "      <td>0.0</td>\n",
       "      <td>0.0</td>\n",
       "      <td>0.0</td>\n",
       "      <td>0.0</td>\n",
       "      <td>...</td>\n",
       "      <td>0.0</td>\n",
       "      <td>0.0</td>\n",
       "      <td>0.0</td>\n",
       "      <td>0.0</td>\n",
       "      <td>0.0</td>\n",
       "      <td>0.0</td>\n",
       "      <td>0.0</td>\n",
       "      <td>0.0</td>\n",
       "      <td>0.0</td>\n",
       "      <td>0.0</td>\n",
       "    </tr>\n",
       "    <tr>\n",
       "      <td>4</td>\n",
       "      <td>230784</td>\n",
       "      <td>4818</td>\n",
       "      <td>0</td>\n",
       "      <td>1</td>\n",
       "      <td>0</td>\n",
       "      <td>0</td>\n",
       "      <td>0.0</td>\n",
       "      <td>0.0</td>\n",
       "      <td>0.0</td>\n",
       "      <td>0.0</td>\n",
       "      <td>...</td>\n",
       "      <td>0.0</td>\n",
       "      <td>0.0</td>\n",
       "      <td>0.0</td>\n",
       "      <td>0.0</td>\n",
       "      <td>0.0</td>\n",
       "      <td>0.0</td>\n",
       "      <td>0.0</td>\n",
       "      <td>0.0</td>\n",
       "      <td>0.0</td>\n",
       "      <td>0.0</td>\n",
       "    </tr>\n",
       "  </tbody>\n",
       "</table>\n",
       "<p>5 rows × 82 columns</p>\n",
       "</div>"
      ],
      "text/plain": [
       "   user_id  seller_id  label  user_gender_female  user_gender_male  \\\n",
       "0    34176       3906      0                   1                 0   \n",
       "1    34176        121      0                   1                 0   \n",
       "2    34176       4356      1                   1                 0   \n",
       "3    34176       2217      0                   1                 0   \n",
       "4   230784       4818      0                   1                 0   \n",
       "\n",
       "   user_gender_unknown  user_age_0_18  user_age_18_24  user_age_25_29  \\\n",
       "0                    0            0.0             0.0             0.0   \n",
       "1                    0            0.0             0.0             0.0   \n",
       "2                    0            0.0             0.0             0.0   \n",
       "3                    0            0.0             0.0             0.0   \n",
       "4                    0            0.0             0.0             0.0   \n",
       "\n",
       "   user_age_30_34  ...  user_seller_add_to_favorite_cnt_db11_mth  \\\n",
       "0             0.0  ...                                       0.0   \n",
       "1             0.0  ...                                       0.0   \n",
       "2             0.0  ...                                       0.0   \n",
       "3             0.0  ...                                       0.0   \n",
       "4             0.0  ...                                       0.0   \n",
       "\n",
       "   user_seller_click_rt_db11  user_seller_purchase_rt_db11  \\\n",
       "0                        0.0                           0.0   \n",
       "1                        0.0                           0.0   \n",
       "2                        0.0                           0.0   \n",
       "3                        0.0                           0.0   \n",
       "4                        0.0                           0.0   \n",
       "\n",
       "   user_seller_add_to_favorite_rt_db11  user_seller_click_rt_db11_wk  \\\n",
       "0                                  0.0                           0.0   \n",
       "1                                  0.0                           0.0   \n",
       "2                                  0.0                           0.0   \n",
       "3                                  0.0                           0.0   \n",
       "4                                  0.0                           0.0   \n",
       "\n",
       "   user_seller_purchase_rt_db11_wk  user_seller_add_to_favorite_rt_db11_wk  \\\n",
       "0                              0.0                                     0.0   \n",
       "1                              0.0                                     0.0   \n",
       "2                              0.0                                     0.0   \n",
       "3                              0.0                                     0.0   \n",
       "4                              0.0                                     0.0   \n",
       "\n",
       "   user_seller_click_rt_db11_mth  user_seller_purchase_rt_db11_mth  \\\n",
       "0                            0.0                               0.0   \n",
       "1                            0.0                               0.0   \n",
       "2                            0.0                               0.0   \n",
       "3                            0.0                               0.0   \n",
       "4                            0.0                               0.0   \n",
       "\n",
       "   user_seller_add_to_favorite_rt_db11_mth  \n",
       "0                                      0.0  \n",
       "1                                      0.0  \n",
       "2                                      0.0  \n",
       "3                                      0.0  \n",
       "4                                      0.0  \n",
       "\n",
       "[5 rows x 82 columns]"
      ]
     },
     "execution_count": 2,
     "metadata": {},
     "output_type": "execute_result"
    }
   ],
   "source": [
    "#load data\n",
    "train = pd.read_csv('C:/Stats Consulting/train_final.csv')\n",
    "train.head()"
   ]
  },
  {
   "cell_type": "code",
   "execution_count": 3,
   "metadata": {},
   "outputs": [
    {
     "data": {
      "text/html": [
       "<div>\n",
       "<style scoped>\n",
       "    .dataframe tbody tr th:only-of-type {\n",
       "        vertical-align: middle;\n",
       "    }\n",
       "\n",
       "    .dataframe tbody tr th {\n",
       "        vertical-align: top;\n",
       "    }\n",
       "\n",
       "    .dataframe thead th {\n",
       "        text-align: right;\n",
       "    }\n",
       "</style>\n",
       "<table border=\"1\" class=\"dataframe\">\n",
       "  <thead>\n",
       "    <tr style=\"text-align: right;\">\n",
       "      <th></th>\n",
       "      <th>user_id</th>\n",
       "      <th>seller_id</th>\n",
       "      <th>user_gender_female</th>\n",
       "      <th>user_gender_male</th>\n",
       "      <th>user_gender_unknown</th>\n",
       "      <th>user_age_0_18</th>\n",
       "      <th>user_age_18_24</th>\n",
       "      <th>user_age_25_29</th>\n",
       "      <th>user_age_30_34</th>\n",
       "      <th>user_age_35_39</th>\n",
       "      <th>...</th>\n",
       "      <th>user_seller_add_to_favorite_cnt_db11_mth</th>\n",
       "      <th>user_seller_click_rt_db11</th>\n",
       "      <th>user_seller_purchase_rt_db11</th>\n",
       "      <th>user_seller_add_to_favorite_rt_db11</th>\n",
       "      <th>user_seller_click_rt_db11_wk</th>\n",
       "      <th>user_seller_purchase_rt_db11_wk</th>\n",
       "      <th>user_seller_add_to_favorite_rt_db11_wk</th>\n",
       "      <th>user_seller_click_rt_db11_mth</th>\n",
       "      <th>user_seller_purchase_rt_db11_mth</th>\n",
       "      <th>user_seller_add_to_favorite_rt_db11_mth</th>\n",
       "    </tr>\n",
       "  </thead>\n",
       "  <tbody>\n",
       "    <tr>\n",
       "      <td>0</td>\n",
       "      <td>163968</td>\n",
       "      <td>4605</td>\n",
       "      <td>1</td>\n",
       "      <td>0</td>\n",
       "      <td>0</td>\n",
       "      <td>0.0</td>\n",
       "      <td>0.0</td>\n",
       "      <td>0.0</td>\n",
       "      <td>0.0</td>\n",
       "      <td>0.0</td>\n",
       "      <td>...</td>\n",
       "      <td>0.0</td>\n",
       "      <td>0.0</td>\n",
       "      <td>0.0</td>\n",
       "      <td>0.0</td>\n",
       "      <td>0.0</td>\n",
       "      <td>0.0</td>\n",
       "      <td>0.0</td>\n",
       "      <td>0.0</td>\n",
       "      <td>0.0</td>\n",
       "      <td>0.0</td>\n",
       "    </tr>\n",
       "    <tr>\n",
       "      <td>1</td>\n",
       "      <td>360576</td>\n",
       "      <td>1581</td>\n",
       "      <td>0</td>\n",
       "      <td>0</td>\n",
       "      <td>1</td>\n",
       "      <td>0.0</td>\n",
       "      <td>1.0</td>\n",
       "      <td>0.0</td>\n",
       "      <td>0.0</td>\n",
       "      <td>0.0</td>\n",
       "      <td>...</td>\n",
       "      <td>0.0</td>\n",
       "      <td>1.4</td>\n",
       "      <td>0.6</td>\n",
       "      <td>0.0</td>\n",
       "      <td>0.0</td>\n",
       "      <td>0.0</td>\n",
       "      <td>0.0</td>\n",
       "      <td>0.0</td>\n",
       "      <td>0.0</td>\n",
       "      <td>0.0</td>\n",
       "    </tr>\n",
       "    <tr>\n",
       "      <td>2</td>\n",
       "      <td>98688</td>\n",
       "      <td>1964</td>\n",
       "      <td>1</td>\n",
       "      <td>0</td>\n",
       "      <td>0</td>\n",
       "      <td>0.0</td>\n",
       "      <td>0.0</td>\n",
       "      <td>0.0</td>\n",
       "      <td>0.0</td>\n",
       "      <td>0.0</td>\n",
       "      <td>...</td>\n",
       "      <td>0.0</td>\n",
       "      <td>0.0</td>\n",
       "      <td>0.0</td>\n",
       "      <td>0.0</td>\n",
       "      <td>0.0</td>\n",
       "      <td>0.0</td>\n",
       "      <td>0.0</td>\n",
       "      <td>0.0</td>\n",
       "      <td>0.0</td>\n",
       "      <td>0.0</td>\n",
       "    </tr>\n",
       "    <tr>\n",
       "      <td>3</td>\n",
       "      <td>98688</td>\n",
       "      <td>3645</td>\n",
       "      <td>1</td>\n",
       "      <td>0</td>\n",
       "      <td>0</td>\n",
       "      <td>0.0</td>\n",
       "      <td>0.0</td>\n",
       "      <td>0.0</td>\n",
       "      <td>0.0</td>\n",
       "      <td>0.0</td>\n",
       "      <td>...</td>\n",
       "      <td>0.0</td>\n",
       "      <td>0.0</td>\n",
       "      <td>0.0</td>\n",
       "      <td>0.0</td>\n",
       "      <td>0.0</td>\n",
       "      <td>0.0</td>\n",
       "      <td>0.0</td>\n",
       "      <td>0.0</td>\n",
       "      <td>0.0</td>\n",
       "      <td>0.0</td>\n",
       "    </tr>\n",
       "    <tr>\n",
       "      <td>4</td>\n",
       "      <td>295296</td>\n",
       "      <td>3361</td>\n",
       "      <td>0</td>\n",
       "      <td>1</td>\n",
       "      <td>0</td>\n",
       "      <td>0.0</td>\n",
       "      <td>1.0</td>\n",
       "      <td>0.0</td>\n",
       "      <td>0.0</td>\n",
       "      <td>0.0</td>\n",
       "      <td>...</td>\n",
       "      <td>0.0</td>\n",
       "      <td>0.0</td>\n",
       "      <td>0.0</td>\n",
       "      <td>0.0</td>\n",
       "      <td>0.0</td>\n",
       "      <td>0.0</td>\n",
       "      <td>0.0</td>\n",
       "      <td>0.0</td>\n",
       "      <td>0.0</td>\n",
       "      <td>0.0</td>\n",
       "    </tr>\n",
       "  </tbody>\n",
       "</table>\n",
       "<p>5 rows × 81 columns</p>\n",
       "</div>"
      ],
      "text/plain": [
       "   user_id  seller_id  user_gender_female  user_gender_male  \\\n",
       "0   163968       4605                   1                 0   \n",
       "1   360576       1581                   0                 0   \n",
       "2    98688       1964                   1                 0   \n",
       "3    98688       3645                   1                 0   \n",
       "4   295296       3361                   0                 1   \n",
       "\n",
       "   user_gender_unknown  user_age_0_18  user_age_18_24  user_age_25_29  \\\n",
       "0                    0            0.0             0.0             0.0   \n",
       "1                    1            0.0             1.0             0.0   \n",
       "2                    0            0.0             0.0             0.0   \n",
       "3                    0            0.0             0.0             0.0   \n",
       "4                    0            0.0             1.0             0.0   \n",
       "\n",
       "   user_age_30_34  user_age_35_39  ...  \\\n",
       "0             0.0             0.0  ...   \n",
       "1             0.0             0.0  ...   \n",
       "2             0.0             0.0  ...   \n",
       "3             0.0             0.0  ...   \n",
       "4             0.0             0.0  ...   \n",
       "\n",
       "   user_seller_add_to_favorite_cnt_db11_mth  user_seller_click_rt_db11  \\\n",
       "0                                       0.0                        0.0   \n",
       "1                                       0.0                        1.4   \n",
       "2                                       0.0                        0.0   \n",
       "3                                       0.0                        0.0   \n",
       "4                                       0.0                        0.0   \n",
       "\n",
       "   user_seller_purchase_rt_db11  user_seller_add_to_favorite_rt_db11  \\\n",
       "0                           0.0                                  0.0   \n",
       "1                           0.6                                  0.0   \n",
       "2                           0.0                                  0.0   \n",
       "3                           0.0                                  0.0   \n",
       "4                           0.0                                  0.0   \n",
       "\n",
       "   user_seller_click_rt_db11_wk  user_seller_purchase_rt_db11_wk  \\\n",
       "0                           0.0                              0.0   \n",
       "1                           0.0                              0.0   \n",
       "2                           0.0                              0.0   \n",
       "3                           0.0                              0.0   \n",
       "4                           0.0                              0.0   \n",
       "\n",
       "   user_seller_add_to_favorite_rt_db11_wk  user_seller_click_rt_db11_mth  \\\n",
       "0                                     0.0                            0.0   \n",
       "1                                     0.0                            0.0   \n",
       "2                                     0.0                            0.0   \n",
       "3                                     0.0                            0.0   \n",
       "4                                     0.0                            0.0   \n",
       "\n",
       "   user_seller_purchase_rt_db11_mth  user_seller_add_to_favorite_rt_db11_mth  \n",
       "0                               0.0                                      0.0  \n",
       "1                               0.0                                      0.0  \n",
       "2                               0.0                                      0.0  \n",
       "3                               0.0                                      0.0  \n",
       "4                               0.0                                      0.0  \n",
       "\n",
       "[5 rows x 81 columns]"
      ]
     },
     "execution_count": 3,
     "metadata": {},
     "output_type": "execute_result"
    }
   ],
   "source": [
    "test = pd.read_csv('C:/Stats Consulting/test_final.csv')\n",
    "test.head()"
   ]
  },
  {
   "cell_type": "code",
   "execution_count": 4,
   "metadata": {},
   "outputs": [],
   "source": [
    "#fill all infinite entry with 0\n",
    "train = train.replace(np.inf, 0)\n",
    "test = test.replace(np.inf, 0)"
   ]
  },
  {
   "cell_type": "code",
   "execution_count": 5,
   "metadata": {},
   "outputs": [
    {
     "data": {
      "text/plain": [
       "0.06115063788027478"
      ]
     },
     "execution_count": 5,
     "metadata": {},
     "output_type": "execute_result"
    }
   ],
   "source": [
    "#data split (training_set, testing_set)\n",
    "data_output = train.label\n",
    "data_input = train.drop('label',axis=1)\n",
    "#unbalanced\n",
    "data_output.sum()/data_output.count()"
   ]
  },
  {
   "cell_type": "code",
   "execution_count": 6,
   "metadata": {},
   "outputs": [
    {
     "name": "stdout",
     "output_type": "stream",
     "text": [
      "(182604, 81) (78260, 81) (182604,) (78260,)\n"
     ]
    }
   ],
   "source": [
    "training_set_x, testing_set_x, training_set_y, testing_set_y = train_test_split(data_input, data_output, test_size=0.3, random_state=1)\n",
    "print(training_set_x.shape, testing_set_x.shape, training_set_y.shape, testing_set_y.shape)"
   ]
  },
  {
   "cell_type": "code",
   "execution_count": 7,
   "metadata": {},
   "outputs": [
    {
     "data": {
      "text/plain": [
       "user_id                                    True\n",
       "seller_id                                  True\n",
       "user_gender_female                         True\n",
       "user_gender_male                           True\n",
       "user_gender_unknown                        True\n",
       "                                           ... \n",
       "user_seller_purchase_rt_db11_wk            True\n",
       "user_seller_add_to_favorite_rt_db11_wk     True\n",
       "user_seller_click_rt_db11_mth              True\n",
       "user_seller_purchase_rt_db11_mth           True\n",
       "user_seller_add_to_favorite_rt_db11_mth    True\n",
       "Length: 81, dtype: bool"
      ]
     },
     "execution_count": 7,
     "metadata": {},
     "output_type": "execute_result"
    }
   ],
   "source": [
    "np.isfinite(training_set_x).all()"
   ]
  },
  {
   "cell_type": "code",
   "execution_count": 8,
   "metadata": {},
   "outputs": [
    {
     "name": "stdout",
     "output_type": "stream",
     "text": [
      "Accuracy: 0.9381037567084078\n",
      "ROC AUC: 0.6337082079462185\n"
     ]
    }
   ],
   "source": [
    "#initial model fitting\n",
    "#random forest\n",
    "model_rf = RandomForestClassifier(n_estimators=100, criterion='gini',bootstrap= True,max_features ='sqrt')\n",
    "#fit on training data\n",
    "model_rf.fit(training_set_x, training_set_y)\n",
    "#predictions\n",
    "rf_predictions = model_rf.predict(testing_set_x)\n",
    "rf_probs = model_rf.predict_proba(testing_set_x)[:, 1]\n",
    "#check model accuracy, ROC AUC\n",
    "print('Accuracy:',metrics.accuracy_score(testing_set_y, rf_predictions))\n",
    "print('ROC AUC:', metrics.roc_auc_score(testing_set_y, rf_probs))"
   ]
  },
  {
   "cell_type": "code",
   "execution_count": 9,
   "metadata": {},
   "outputs": [
    {
     "data": {
      "text/plain": [
       "0.00016611295681063124"
      ]
     },
     "execution_count": 9,
     "metadata": {},
     "output_type": "execute_result"
    }
   ],
   "source": [
    "np.mean(rf_predictions)"
   ]
  },
  {
   "cell_type": "code",
   "execution_count": 10,
   "metadata": {},
   "outputs": [
    {
     "name": "stdout",
     "output_type": "stream",
     "text": [
      "Accuracy: 0.9381165346281626\n",
      "ROC AUC 0.6608758699703369\n"
     ]
    }
   ],
   "source": [
    "#Gradient Boosting\n",
    "model_gbm = lgb.LGBMClassifier(objective='binary', metric='binary_logloss',learning_rate=0.03)\n",
    "#fit on training data\n",
    "model_gbm.fit(training_set_x, training_set_y)\n",
    "#predictions\n",
    "gbm_predictions = model_gbm.predict(testing_set_x)\n",
    "gbm_probs = model_gbm.predict_proba(testing_set_x)[:, 1]\n",
    "#check model accuracy, ROC AUC\n",
    "print('Accuracy:', metrics.accuracy_score(testing_set_y, gbm_predictions))\n",
    "print('ROC AUC', metrics.roc_auc_score(testing_set_y, gbm_probs))"
   ]
  },
  {
   "cell_type": "code",
   "execution_count": 11,
   "metadata": {},
   "outputs": [
    {
     "data": {
      "text/plain": [
       "0.0"
      ]
     },
     "execution_count": 11,
     "metadata": {},
     "output_type": "execute_result"
    }
   ],
   "source": [
    "np.mean(gbm_predictions)"
   ]
  },
  {
   "cell_type": "code",
   "execution_count": 12,
   "metadata": {},
   "outputs": [
    {
     "name": "stdout",
     "output_type": "stream",
     "text": [
      "Accuracy: 0.9381420904676718\n",
      "ROC AUC 0.6679874951446462\n"
     ]
    }
   ],
   "source": [
    "#XGB\n",
    "model_xgb = XGBClassifier(objective ='binary:logistic', learning_rate=0.1)\n",
    "#fit on training data\n",
    "model_xgb.fit(training_set_x, training_set_y)\n",
    "#predictions\n",
    "xgb_predictions = model_xgb.predict(testing_set_x)\n",
    "xgb_probs = model_xgb.predict_proba(testing_set_x)[:, 1]\n",
    "#check model accuracy, ROC AUC\n",
    "print('Accuracy:', metrics.accuracy_score(testing_set_y, xgb_predictions))\n",
    "print('ROC AUC', metrics.roc_auc_score(testing_set_y, xgb_probs))"
   ]
  },
  {
   "cell_type": "code",
   "execution_count": 13,
   "metadata": {},
   "outputs": [
    {
     "data": {
      "text/plain": [
       "0.0001277791975466394"
      ]
     },
     "execution_count": 13,
     "metadata": {},
     "output_type": "execute_result"
    }
   ],
   "source": [
    "np.mean(xgb_predictions)"
   ]
  },
  {
   "cell_type": "code",
   "execution_count": 14,
   "metadata": {},
   "outputs": [
    {
     "name": "stdout",
     "output_type": "stream",
     "text": [
      "After oversampling, counts of label 1: 171495\n",
      "After oversampling, counts of label 0: 171495\n"
     ]
    }
   ],
   "source": [
    "#SMOTE\n",
    "sm = SMOTE(random_state=2)\n",
    "training_set_x_res, training_set_y_res = sm.fit_sample(training_set_x, training_set_y.ravel())\n",
    "#print percentage of output after oversampling\n",
    "print('After oversampling, counts of label 1:',format(sum(training_set_y_res==1)))\n",
    "print('After oversampling, counts of label 0:',format(sum(training_set_y_res==0)))"
   ]
  },
  {
   "cell_type": "code",
   "execution_count": 15,
   "metadata": {},
   "outputs": [
    {
     "name": "stdout",
     "output_type": "stream",
     "text": [
      "Accuracy: 0.93764375159724\n",
      "ROC AUC: 0.6193431609717164\n"
     ]
    }
   ],
   "source": [
    "#random forest model fitting with over sampling data\n",
    "model_rf_2 = RandomForestClassifier(n_estimators=100, criterion='gini',bootstrap= True,max_features ='sqrt')\n",
    "#fit on training data\n",
    "model_rf_2.fit(training_set_x_res, training_set_y_res)\n",
    "#predictions\n",
    "rf2_predictions = model_rf_2.predict(testing_set_x)\n",
    "rf2_probs = model_rf_2.predict_proba(testing_set_x)[:, 1]\n",
    "#check model accuracy, ROC AUC\n",
    "print('Accuracy:',metrics.accuracy_score(testing_set_y, rf2_predictions))\n",
    "print('ROC AUC:', metrics.roc_auc_score(testing_set_y, rf2_probs))"
   ]
  },
  {
   "cell_type": "code",
   "execution_count": 16,
   "metadata": {},
   "outputs": [
    {
     "data": {
      "text/plain": [
       "0.0010350115001277792"
      ]
     },
     "execution_count": 16,
     "metadata": {},
     "output_type": "execute_result"
    }
   ],
   "source": [
    "np.mean(rf2_predictions)"
   ]
  },
  {
   "cell_type": "code",
   "execution_count": 17,
   "metadata": {},
   "outputs": [
    {
     "name": "stdout",
     "output_type": "stream",
     "text": [
      "Accuracy: 0.9380782008688986\n",
      "ROC AUC 0.6003051801336191\n"
     ]
    }
   ],
   "source": [
    "#Gradient Boosting\n",
    "model_gbm_2 = lgb.LGBMClassifier(objective='binary', metric='binary_logloss',learning_rate=0.03)\n",
    "#fit on training data\n",
    "model_gbm_2.fit(training_set_x_res, training_set_y_res)\n",
    "#predictions\n",
    "gbm2_predictions = model_gbm_2.predict(testing_set_x)\n",
    "gbm2_probs = model_gbm_2.predict_proba(testing_set_x)[:, 1]\n",
    "#check model accuracy, ROC AUC\n",
    "print('Accuracy:', metrics.accuracy_score(testing_set_y, gbm2_predictions))\n",
    "print('ROC AUC', metrics.roc_auc_score(testing_set_y, gbm2_probs))"
   ]
  },
  {
   "cell_type": "code",
   "execution_count": 18,
   "metadata": {},
   "outputs": [
    {
     "data": {
      "text/plain": [
       "0.00011500127779197546"
      ]
     },
     "execution_count": 18,
     "metadata": {},
     "output_type": "execute_result"
    }
   ],
   "source": [
    "np.mean(gbm2_predictions)"
   ]
  },
  {
   "cell_type": "code",
   "execution_count": 19,
   "metadata": {},
   "outputs": [
    {
     "name": "stdout",
     "output_type": "stream",
     "text": [
      "Accuracy: 0.9380270891898799\n",
      "ROC AUC 0.6333020919697747\n"
     ]
    }
   ],
   "source": [
    "#XGB\n",
    "model_xgb_2 = XGBClassifier(objective ='binary:logistic', learning_rate=0.1)\n",
    "#fit on training data\n",
    "model_xgb_2.fit(training_set_x_res, training_set_y_res)\n",
    "#predictions\n",
    "xgb_2_predictions = model_xgb_2.predict(testing_set_x)\n",
    "xgb_2_probs = model_xgb_2.predict_proba(testing_set_x)[:, 1]\n",
    "#check model accuracy, ROC AUC\n",
    "print('Accuracy:', metrics.accuracy_score(testing_set_y, xgb_2_predictions))\n",
    "print('ROC AUC', metrics.roc_auc_score(testing_set_y, xgb_2_probs))"
   ]
  },
  {
   "cell_type": "code",
   "execution_count": 20,
   "metadata": {},
   "outputs": [
    {
     "data": {
      "text/plain": [
       "0.00024278047533861488"
      ]
     },
     "execution_count": 20,
     "metadata": {},
     "output_type": "execute_result"
    }
   ],
   "source": [
    "np.mean(xgb_2_predictions)"
   ]
  },
  {
   "cell_type": "code",
   "execution_count": 21,
   "metadata": {},
   "outputs": [
    {
     "name": "stdout",
     "output_type": "stream",
     "text": [
      "After undersampling, counts of label 1: 11109\n",
      "After undersampling, counts of label 0: 11109\n"
     ]
    }
   ],
   "source": [
    "#RUS (under sampling)\n",
    "rus = RandomUnderSampler()\n",
    "training_x_rus, training_y_rus = rus.fit_sample(training_set_x, training_set_y)\n",
    "#print percentage of output after oversampling\n",
    "print('After undersampling, counts of label 1:',format(sum(training_y_rus==1)))\n",
    "print('After undersampling, counts of label 0:',format(sum(training_y_rus==0)))"
   ]
  },
  {
   "cell_type": "code",
   "execution_count": 22,
   "metadata": {},
   "outputs": [
    {
     "name": "stdout",
     "output_type": "stream",
     "text": [
      "Accuracy: 0.6394454382826475\n",
      "ROC AUC: 0.6516524630933409\n"
     ]
    }
   ],
   "source": [
    "#random forest model fitting with under sampling data\n",
    "model_rf_3 = RandomForestClassifier(n_estimators=100, criterion='gini',bootstrap= True,max_features ='sqrt')\n",
    "#fit on training data\n",
    "model_rf_3.fit(training_x_rus, training_y_rus)\n",
    "#predictions\n",
    "rf3_predictions = model_rf_3.predict(testing_set_x)\n",
    "rf3_probs = model_rf_3.predict_proba(testing_set_x)[:, 1]\n",
    "#check model accuracy, ROC AUC\n",
    "print('Accuracy:',metrics.accuracy_score(testing_set_y, rf3_predictions))\n",
    "print('ROC AUC:', metrics.roc_auc_score(testing_set_y, rf3_probs))"
   ]
  },
  {
   "cell_type": "code",
   "execution_count": 23,
   "metadata": {},
   "outputs": [
    {
     "data": {
      "text/plain": [
       "0.3700485560950677"
      ]
     },
     "execution_count": 23,
     "metadata": {},
     "output_type": "execute_result"
    }
   ],
   "source": [
    "np.mean(rf3_predictions)"
   ]
  },
  {
   "cell_type": "code",
   "execution_count": 24,
   "metadata": {},
   "outputs": [
    {
     "name": "stdout",
     "output_type": "stream",
     "text": [
      "Accuracy: 0.6489138768208536\n",
      "ROC AUC 0.6591725385995589\n"
     ]
    }
   ],
   "source": [
    "#Gradient Boosting\n",
    "model_gbm_3 = lgb.LGBMClassifier(objective='binary', metric='binary_logloss',learning_rate=0.03)\n",
    "#fit on training data\n",
    "model_gbm_3.fit(training_x_rus, training_y_rus)\n",
    "#predictions\n",
    "gbm3_predictions = model_gbm_3.predict(testing_set_x)\n",
    "gbm3_probs = model_gbm_3.predict_proba(testing_set_x)[:, 1]\n",
    "#check model accuracy, ROC AUC\n",
    "print('Accuracy:', metrics.accuracy_score(testing_set_y, gbm3_predictions))\n",
    "print('ROC AUC', metrics.roc_auc_score(testing_set_y, gbm3_probs))"
   ]
  },
  {
   "cell_type": "code",
   "execution_count": 25,
   "metadata": {},
   "outputs": [
    {
     "data": {
      "text/plain": [
       "0.3605034500383338"
      ]
     },
     "execution_count": 25,
     "metadata": {},
     "output_type": "execute_result"
    }
   ],
   "source": [
    "np.mean(gbm3_predictions)"
   ]
  },
  {
   "cell_type": "code",
   "execution_count": 26,
   "metadata": {},
   "outputs": [
    {
     "name": "stdout",
     "output_type": "stream",
     "text": [
      "Accuracy: 0.6497572195246614\n",
      "ROC AUC 0.6635814906097697\n"
     ]
    }
   ],
   "source": [
    "#XGB\n",
    "model_xgb_3 = XGBClassifier(objective ='binary:logistic', learning_rate=0.1)\n",
    "#fit on training data\n",
    "model_xgb_3.fit(training_x_rus, training_y_rus)\n",
    "#predictions\n",
    "xgb_3_predictions = model_xgb_3.predict(testing_set_x)\n",
    "xgb_3_probs = model_xgb_3.predict_proba(testing_set_x)[:, 1]\n",
    "#check model accuracy, ROC AUC\n",
    "print('Accuracy:', metrics.accuracy_score(testing_set_y, xgb_3_predictions))\n",
    "print('ROC AUC', metrics.roc_auc_score(testing_set_y, xgb_3_probs))"
   ]
  },
  {
   "cell_type": "code",
   "execution_count": 27,
   "metadata": {},
   "outputs": [
    {
     "data": {
      "text/plain": [
       "0.00024278047533861488"
      ]
     },
     "execution_count": 27,
     "metadata": {},
     "output_type": "execute_result"
    }
   ],
   "source": [
    "np.mean(xgb_2_predictions)"
   ]
  },
  {
   "cell_type": "code",
   "execution_count": 28,
   "metadata": {},
   "outputs": [],
   "source": [
    "# define imbalanced stratified k-fold cross validation with different sampling method\n",
    "def imbalance_cv_score(model, x, y, cv, scoring, sampling_method):\n",
    "    '''\n",
    "    This function computes the cross-validation score using a selected sampling method to adjust imbalance dataset, using \n",
    "    stratified k-fold cross validation. \n",
    "    \n",
    "    The first five arguments are the same with cross_val_score in sklearn package\n",
    "    \n",
    "    model = selected machine learning model\n",
    "    x = data input\n",
    "    y = data outcome(label)\n",
    "    cv = number of folds(k)\n",
    "    scoring = scoring metrics selected for evaluation. *Currently support accuracy_score, balance_accuracy, \n",
    "    f1_score, precision_score, recall_score, roc_auc_score, average_precision_score, ndcg_score in sklearn.metrics package*\n",
    "    sampling_method: choice of random sampler: Object that is similar to sampler object from python imbalanced-learn package\n",
    "    with the method sampling_method.fit_sample()\n",
    "\n",
    "    '''\n",
    "    cv_score = []\n",
    "    test_score = 0\n",
    "    cv_method = StratifiedKFold(n_splits=cv)\n",
    "    pred_score_method_list = [metrics.accuracy_score,metrics.balanced_accuracy_score,metrics.f1_score, metrics.precision_score,\n",
    "                             metrics.recall_score]\n",
    "    pred_prob_method_list = [metrics.roc_auc_score,metrics.average_precision_score,metrics.ndcg_score]\n",
    "    for train_index, test_index in cv_method.split(x,y):\n",
    "        xfold_train, yfold_train = sampling_method.fit_sample(x.iloc[train_index],y.iloc[train_index])\n",
    "        model.fit(xfold_train, yfold_train)\n",
    "        model_predictions = model.predict(x.iloc[test_index])\n",
    "        model_probs = model.predict_proba(x.iloc[test_index])[:, 1]\n",
    "        if scoring in pred_score_method_list:\n",
    "            score = scoring(y.iloc[test_index], model_predictions)\n",
    "        elif scoring in pred_prob_method_list:\n",
    "            score = scoring(y.iloc[test_index], model_probs)\n",
    "        else:\n",
    "            print('Sorry, Current scoring method not available now.')\n",
    "        cv_score.append(score)\n",
    "    return cv_score"
   ]
  },
  {
   "cell_type": "code",
   "execution_count": 30,
   "metadata": {},
   "outputs": [
    {
     "name": "stdout",
     "output_type": "stream",
     "text": [
      "The accuracy score for  RandomForestClassifier is  0.9382398492013223 with the Std of 0.00015293264303280934 using sampling method  SMOTE in time:  1231.3711059093475\n",
      "The accuracy score for  RandomForestClassifier is  0.6374471015246651 with the Std of 0.002790411416998459 using sampling method  RandomUnderSampler in time:  63.44834589958191\n",
      "The accuracy score for  RandomForestClassifier is  0.9382666834451044 with the Std of 0.00013556105625578475 using sampling method  ADASYN in time:  1118.9550387859344\n",
      "The accuracy score for  LGBMClassifier is  0.9388033608261737 with the Std of 5.854392841208983e-05 using sampling method  SMOTE in time:  54.709526777267456\n",
      "The accuracy score for  LGBMClassifier is  0.6474407775161187 with the Std of 0.005540523437637553 using sampling method  RandomUnderSampler in time:  11.965383768081665\n",
      "The accuracy score for  LGBMClassifier is  0.9387918602575391 with the Std of 9.40251567288814e-05 using sampling method  ADASYN in time:  136.5664381980896\n",
      "The accuracy score for  XGBClassifier is  0.9387650265280905 with the Std of 0.0001291334752075747 using sampling method  SMOTE in time:  460.93519139289856\n",
      "The accuracy score for  XGBClassifier is  0.6508678987688209 with the Std of 0.0061225814081676665 using sampling method  RandomUnderSampler in time:  24.193974018096924\n",
      "The accuracy score for  XGBClassifier is  0.9387918605514439 with the Std of 8.665887936840634e-05 using sampling method  ADASYN in time:  513.5502054691315\n"
     ]
    }
   ],
   "source": [
    "Random_forest_model = RandomForestClassifier(n_estimators=100, criterion='gini',bootstrap= True,max_features ='sqrt')\n",
    "GBM_model = lgb.LGBMClassifier(objective='binary', metric='binary_logloss',learning_rate=0.03)\n",
    "XGB_model = XGBClassifier(objective ='binary:logistic', learning_rate=0.1)\n",
    "model_list= [Random_forest_model, GBM_model, XGB_model]\n",
    "sampler_list = [SMOTE(),RandomUnderSampler(),ADASYN()]\n",
    "results_acc = []\n",
    "time_res = []\n",
    "names = []\n",
    "for model in model_list:\n",
    "    name = model.__class__.__name__\n",
    "    for sm in sampler_list:\n",
    "        start = time()\n",
    "        sm_name = sm.__class__.__name__\n",
    "        scores = imbalance_cv_score(model, data_input, data_output, 5, metrics.accuracy_score, sm)\n",
    "        results_acc.append(mean(scores))\n",
    "        names.append(name)\n",
    "        end = time()\n",
    "        time_use = end - start\n",
    "        time_res.append(time_use)\n",
    "        print('The accuracy score for ', name, 'is ', mean(scores), \n",
    "              'with the Std of', stdev(scores), 'using sampling method ', sm_name, 'in time: ',time_use)"
   ]
  },
  {
   "cell_type": "code",
   "execution_count": 33,
   "metadata": {},
   "outputs": [],
   "source": [
    "time_res = pd.DataFrame(time_res, columns=['Time'])\n",
    "acc_res = pd.DataFrame(results_acc, columns=['Accuracy_score'])"
   ]
  },
  {
   "cell_type": "code",
   "execution_count": 37,
   "metadata": {},
   "outputs": [
    {
     "name": "stdout",
     "output_type": "stream",
     "text": [
      "The AUC score for  RandomForestClassifier is  0.6212953361274457 with the Std of 0.003804053758477356 using sampling method  SMOTE in time:  1185.036315202713\n",
      "The AUC score for  RandomForestClassifier is  0.6538747064232322 with the Std of 0.0034380191473210304 using sampling method  RandomUnderSampler in time:  69.96215391159058\n",
      "The AUC score for  RandomForestClassifier is  0.6217283074515212 with the Std of 0.0050263550697680235 using sampling method  ADASYN in time:  1215.0689871311188\n",
      "The AUC score for  LGBMClassifier is  0.6050634732040661 with the Std of 0.006675545020362849 using sampling method  SMOTE in time:  84.05602383613586\n",
      "The AUC score for  LGBMClassifier is  0.6631811266263793 with the Std of 0.0059906170527438225 using sampling method  RandomUnderSampler in time:  10.718226432800293\n",
      "The AUC score for  LGBMClassifier is  0.6039449926138859 with the Std of 0.007903572687626622 using sampling method  ADASYN in time:  153.51110863685608\n",
      "The AUC score for  XGBClassifier is  0.6390715920989658 with the Std of 0.0066906508860485395 using sampling method  SMOTE in time:  486.483371257782\n",
      "The AUC score for  XGBClassifier is  0.664346987668611 with the Std of 0.0071132935484266675 using sampling method  RandomUnderSampler in time:  25.934233903884888\n",
      "The AUC score for  XGBClassifier is  0.6405115551317809 with the Std of 0.006933651257290523 using sampling method  ADASYN in time:  492.5648992061615\n"
     ]
    }
   ],
   "source": [
    "results_auc = []\n",
    "names = []\n",
    "time_res_2 = []\n",
    "for model in model_list:\n",
    "    name = model.__class__.__name__\n",
    "    for sm in sampler_list:\n",
    "        start = time()\n",
    "        sm_name = sm.__class__.__name__\n",
    "        scores = imbalance_cv_score(model, data_input, data_output, 5, metrics.roc_auc_score, sm)\n",
    "        results_auc.append(mean(scores))\n",
    "        names.append(name)\n",
    "        end = time()\n",
    "        time_use = end - start\n",
    "        time_res_2.append(time_use)\n",
    "        print('The AUC score for ', name, 'is ', mean(scores), \n",
    "              'with the Std of',stdev(scores), 'using sampling method ', sm_name, 'in time: ',time_use)"
   ]
  },
  {
   "cell_type": "code",
   "execution_count": 38,
   "metadata": {},
   "outputs": [],
   "source": [
    "auc_res = pd.DataFrame(results_auc, columns=['AUC_score'])\n",
    "sampler = pd.DataFrame({'Sampler_method':['SMOTE','RandomUnderSampler','ADASYN','SMOTE','RandomUnderSampler','ADASYN',\n",
    "                                        'SMOTE','RandomUnderSampler','ADASYN']})\n",
    "coef = pd.concat([time_res, acc_res, auc_res, sampler],axis=1)\n",
    "coef.index=['RF','RF','RF','GBM','GBM','GBM','XGB','XGB','XGB']"
   ]
  },
  {
   "cell_type": "code",
   "execution_count": 45,
   "metadata": {},
   "outputs": [],
   "source": [
    "coef.to_csv('C:/Stats Consulting/Coef.csv')"
   ]
  },
  {
   "cell_type": "code",
   "execution_count": 44,
   "metadata": {},
   "outputs": [
    {
     "data": {
      "text/html": [
       "<div>\n",
       "<style scoped>\n",
       "    .dataframe tbody tr th:only-of-type {\n",
       "        vertical-align: middle;\n",
       "    }\n",
       "\n",
       "    .dataframe tbody tr th {\n",
       "        vertical-align: top;\n",
       "    }\n",
       "\n",
       "    .dataframe thead th {\n",
       "        text-align: right;\n",
       "    }\n",
       "</style>\n",
       "<table border=\"1\" class=\"dataframe\">\n",
       "  <thead>\n",
       "    <tr style=\"text-align: right;\">\n",
       "      <th></th>\n",
       "      <th>Time</th>\n",
       "      <th>Accuracy_score</th>\n",
       "      <th>AUC_score</th>\n",
       "      <th>Sampler_method</th>\n",
       "    </tr>\n",
       "  </thead>\n",
       "  <tbody>\n",
       "    <tr>\n",
       "      <td>RF</td>\n",
       "      <td>1231.371106</td>\n",
       "      <td>0.938240</td>\n",
       "      <td>0.621295</td>\n",
       "      <td>SMOTE</td>\n",
       "    </tr>\n",
       "    <tr>\n",
       "      <td>RF</td>\n",
       "      <td>63.448346</td>\n",
       "      <td>0.637447</td>\n",
       "      <td>0.653875</td>\n",
       "      <td>RandomUnderSampler</td>\n",
       "    </tr>\n",
       "    <tr>\n",
       "      <td>RF</td>\n",
       "      <td>1118.955039</td>\n",
       "      <td>0.938267</td>\n",
       "      <td>0.621728</td>\n",
       "      <td>ADASYN</td>\n",
       "    </tr>\n",
       "    <tr>\n",
       "      <td>GBM</td>\n",
       "      <td>54.709527</td>\n",
       "      <td>0.938803</td>\n",
       "      <td>0.605063</td>\n",
       "      <td>SMOTE</td>\n",
       "    </tr>\n",
       "    <tr>\n",
       "      <td>GBM</td>\n",
       "      <td>11.965384</td>\n",
       "      <td>0.647441</td>\n",
       "      <td>0.663181</td>\n",
       "      <td>RandomUnderSampler</td>\n",
       "    </tr>\n",
       "    <tr>\n",
       "      <td>GBM</td>\n",
       "      <td>136.566438</td>\n",
       "      <td>0.938792</td>\n",
       "      <td>0.603945</td>\n",
       "      <td>ADASYN</td>\n",
       "    </tr>\n",
       "    <tr>\n",
       "      <td>XGB</td>\n",
       "      <td>460.935191</td>\n",
       "      <td>0.938765</td>\n",
       "      <td>0.639072</td>\n",
       "      <td>SMOTE</td>\n",
       "    </tr>\n",
       "    <tr>\n",
       "      <td>XGB</td>\n",
       "      <td>24.193974</td>\n",
       "      <td>0.650868</td>\n",
       "      <td>0.664347</td>\n",
       "      <td>RandomUnderSampler</td>\n",
       "    </tr>\n",
       "    <tr>\n",
       "      <td>XGB</td>\n",
       "      <td>513.550205</td>\n",
       "      <td>0.938792</td>\n",
       "      <td>0.640512</td>\n",
       "      <td>ADASYN</td>\n",
       "    </tr>\n",
       "  </tbody>\n",
       "</table>\n",
       "</div>"
      ],
      "text/plain": [
       "            Time  Accuracy_score  AUC_score      Sampler_method\n",
       "RF   1231.371106        0.938240   0.621295               SMOTE\n",
       "RF     63.448346        0.637447   0.653875  RandomUnderSampler\n",
       "RF   1118.955039        0.938267   0.621728              ADASYN\n",
       "GBM    54.709527        0.938803   0.605063               SMOTE\n",
       "GBM    11.965384        0.647441   0.663181  RandomUnderSampler\n",
       "GBM   136.566438        0.938792   0.603945              ADASYN\n",
       "XGB   460.935191        0.938765   0.639072               SMOTE\n",
       "XGB    24.193974        0.650868   0.664347  RandomUnderSampler\n",
       "XGB   513.550205        0.938792   0.640512              ADASYN"
      ]
     },
     "execution_count": 44,
     "metadata": {},
     "output_type": "execute_result"
    }
   ],
   "source": [
    "coef"
   ]
  },
  {
   "cell_type": "code",
   "execution_count": 46,
   "metadata": {},
   "outputs": [
    {
     "name": "stdout",
     "output_type": "stream",
     "text": [
      "After oversampling, counts of label 1: 173721\n",
      "After oversampling, counts of label 0: 171495\n",
      "Accuracy: 0.9380654229491439\n",
      "ROC AUC 0.6362301555914573\n"
     ]
    }
   ],
   "source": [
    "#  best model\n",
    "XGB_model = XGBClassifier(objective ='binary:logistic', learning_rate=0.1)\n",
    "# data sampling using ADASYN\n",
    "ada = ADASYN()\n",
    "training_x_ada, training_y_ada = ada.fit_sample(training_set_x, training_set_y)\n",
    "#print percentage of output after oversampling\n",
    "print('After oversampling, counts of label 1:',format(sum(training_y_ada==1)))\n",
    "print('After oversampling, counts of label 0:',format(sum(training_y_ada==0)))\n",
    "#fit on training data\n",
    "XGB_model.fit(training_x_ada, training_y_ada)\n",
    "#predictions\n",
    "best_model_pred = XGB_model.predict(testing_set_x)\n",
    "best_model_probs = XGB_model.predict_proba(testing_set_x)[:, 1]\n",
    "#check model accuracy, ROC AUC\n",
    "print('Accuracy:', metrics.accuracy_score(testing_set_y, best_model_pred))\n",
    "print('ROC AUC', metrics.roc_auc_score(testing_set_y, best_model_probs))"
   ]
  },
  {
   "cell_type": "code",
   "execution_count": 47,
   "metadata": {},
   "outputs": [
    {
     "data": {
      "text/plain": [
       "0.00017889087656529517"
      ]
     },
     "execution_count": 47,
     "metadata": {},
     "output_type": "execute_result"
    }
   ],
   "source": [
    "np.mean(best_model_pred)"
   ]
  },
  {
   "cell_type": "code",
   "execution_count": 51,
   "metadata": {},
   "outputs": [
    {
     "data": {
      "text/plain": [
       "{'user_seller_purchase_day_rt': 467,\n",
       " 'user_seller_item_cnt': 80,\n",
       " 'user_gender_male': 81,\n",
       " 'user_gender_female': 179,\n",
       " 'user_gender_unknown': 47,\n",
       " 'user_age_30_34': 118,\n",
       " 'seller_purchase_cnt': 65,\n",
       " 'user_age_35_39': 71,\n",
       " 'user_age_25_29': 137,\n",
       " 'user_item_cnt': 430,\n",
       " 'seller_id': 123,\n",
       " 'user_seller_click_days': 75,\n",
       " 'user_seller_purchase_rt': 222,\n",
       " 'user_age_40_49': 52,\n",
       " 'user_seller_action_total_cnt': 54,\n",
       " 'brand_similarity_score': 187,\n",
       " 'cat_similarity_score': 101,\n",
       " 'seller_cat_cnt': 74,\n",
       " 'user_id': 125,\n",
       " 'user_age_18_24': 44,\n",
       " 'user_purchase_day_rt': 119,\n",
       " 'user_purchase_rt': 183,\n",
       " 'seller_add_to_cart_cnt': 59,\n",
       " 'user_seller_add_to_favorite_days': 29,\n",
       " 'user_seller_click_cnt_db11': 68,\n",
       " 'seller_purchase_rt': 131,\n",
       " 'user_seller_purchase_cnt_db11': 44,\n",
       " 'user_action_total_cnt': 38,\n",
       " 'user_age_50_': 20,\n",
       " 'user_seller_add_to_cart_days': 8,\n",
       " 'user_seller_click_cnt': 38,\n",
       " 'user_purchase_cnt': 41,\n",
       " 'seller_brand_cnt': 145,\n",
       " 'seller_action_total_cnt': 17,\n",
       " 'user_seller_click_rt_db11': 41,\n",
       " 'user_purchase_days': 41,\n",
       " 'seller_add_to_cart_days': 56,\n",
       " 'seller_add_to_favorite_cnt': 53,\n",
       " 'seller_purchase_day_rt': 90,\n",
       " 'user_seller_click_cnt_db11_wk': 9,\n",
       " 'seller_click_days': 39,\n",
       " 'user_click_cnt': 41,\n",
       " 'user_seller_add_to_favorite_cnt': 28,\n",
       " 'user_seller_purchase_cnt': 64,\n",
       " 'user_seller_add_to_favorite_rt_db11': 5,\n",
       " 'seller_add_to_favorite_days': 52,\n",
       " 'user_seller_cat_cnt': 39,\n",
       " 'user_add_to_favorite_days': 22,\n",
       " 'seller_item_cnt': 91,\n",
       " 'user_seller_add_to_favorite_cnt_db11': 9,\n",
       " 'user_seller_click_cnt_db11_mth': 3,\n",
       " 'user_action_total_days': 36,\n",
       " 'user_seller_action_total_days': 18,\n",
       " 'seller_action_total_days': 25,\n",
       " 'user_age_unknown': 1,\n",
       " 'seller_click_cnt': 41,\n",
       " 'user_seller_click_rt_db11_wk': 17,\n",
       " 'user_click_days': 22,\n",
       " 'user_add_to_favorite_cnt': 31,\n",
       " 'seller_purchase_days': 45,\n",
       " 'user_seller_add_to_cart_cnt_db11_mth': 1,\n",
       " 'user_seller_add_to_cart_cnt': 2,\n",
       " 'user_seller_click_rt_db11_mth': 6,\n",
       " 'user_seller_brand_cnt': 7,\n",
       " 'user_add_to_cart_cnt': 9,\n",
       " 'user_seller_purchase_rt_db11': 19,\n",
       " 'user_seller_add_to_favorite_cnt_db11_wk': 5,\n",
       " 'user_seller_purchase_rt_db11_wk': 1,\n",
       " 'user_seller_add_to_cart_cnt_db11_wk': 1,\n",
       " 'user_seller_purchase_cnt_db11_mth': 2,\n",
       " 'user_add_to_cart_days': 5,\n",
       " 'user_seller_add_to_favorite_cnt_db11_mth': 1,\n",
       " 'user_seller_add_to_favorite_rt_db11_wk': 1}"
      ]
     },
     "execution_count": 51,
     "metadata": {},
     "output_type": "execute_result"
    }
   ],
   "source": [
    "XGB_model.get_booster().get_score(importance_type='weight')"
   ]
  },
  {
   "cell_type": "code",
   "execution_count": 52,
   "metadata": {},
   "outputs": [
    {
     "data": {
      "text/plain": [
       "{'user_seller_purchase_day_rt': 1663.7889918866579,\n",
       " 'user_seller_item_cnt': 172.62350064045,\n",
       " 'user_gender_male': 529.6622863827248,\n",
       " 'user_gender_female': 756.1712757030954,\n",
       " 'user_gender_unknown': 1880.4207659554652,\n",
       " 'user_age_30_34': 957.5117736550765,\n",
       " 'seller_purchase_cnt': 29.632666648461527,\n",
       " 'user_age_35_39': 583.1545372638847,\n",
       " 'user_age_25_29': 1335.642001718111,\n",
       " 'user_item_cnt': 762.3806662330095,\n",
       " 'seller_id': 12.308176037878864,\n",
       " 'user_seller_click_days': 125.87090655986664,\n",
       " 'user_seller_purchase_rt': 268.87111408697297,\n",
       " 'user_age_40_49': 640.7645976620962,\n",
       " 'user_seller_action_total_cnt': 40.596852235549996,\n",
       " 'brand_similarity_score': 95.66957847706949,\n",
       " 'cat_similarity_score': 28.516335656316844,\n",
       " 'seller_cat_cnt': 313.3703558531894,\n",
       " 'user_id': 8.005828040751998,\n",
       " 'user_age_18_24': 1233.5265127745452,\n",
       " 'user_purchase_day_rt': 39.85381919201932,\n",
       " 'user_purchase_rt': 34.730722646591786,\n",
       " 'seller_add_to_cart_cnt': 28.18183887727119,\n",
       " 'user_seller_add_to_favorite_days': 201.13899754379318,\n",
       " 'user_seller_click_cnt_db11': 189.06714284044116,\n",
       " 'seller_purchase_rt': 28.974935728220615,\n",
       " 'user_seller_purchase_cnt_db11': 100.80042457590912,\n",
       " 'user_action_total_cnt': 7.910738227026316,\n",
       " 'user_age_50_': 134.9774166105,\n",
       " 'user_seller_add_to_cart_days': 33.70482445,\n",
       " 'user_seller_click_cnt': 35.10901423447368,\n",
       " 'user_purchase_cnt': 8.508182658951222,\n",
       " 'seller_brand_cnt': 218.95304061681375,\n",
       " 'seller_action_total_cnt': 15.316428381764705,\n",
       " 'user_seller_click_rt_db11': 65.33657351097561,\n",
       " 'user_purchase_days': 41.60440251760974,\n",
       " 'seller_add_to_cart_days': 20.707216992275,\n",
       " 'seller_add_to_favorite_cnt': 14.284864186792449,\n",
       " 'seller_purchase_day_rt': 34.21067137803333,\n",
       " 'user_seller_click_cnt_db11_wk': 10.39695316,\n",
       " 'seller_click_days': 32.85395414179488,\n",
       " 'user_click_cnt': 8.94596357047805,\n",
       " 'user_seller_add_to_favorite_cnt': 78.20244308,\n",
       " 'user_seller_purchase_cnt': 208.35421341515632,\n",
       " 'user_seller_add_to_favorite_rt_db11': 11.698210148,\n",
       " 'seller_add_to_favorite_days': 25.24263266115384,\n",
       " 'user_seller_cat_cnt': 13.957479614205127,\n",
       " 'user_add_to_favorite_days': 13.843201887727274,\n",
       " 'seller_item_cnt': 20.02999153901099,\n",
       " 'user_seller_add_to_favorite_cnt_db11': 11.025194158888887,\n",
       " 'user_seller_click_cnt_db11_mth': 6.6685167933333345,\n",
       " 'user_action_total_days': 42.57892513,\n",
       " 'user_seller_action_total_days': 23.469718873888894,\n",
       " 'seller_action_total_days': 16.535232792400002,\n",
       " 'user_age_unknown': 22.0119057,\n",
       " 'seller_click_cnt': 27.752521071292684,\n",
       " 'user_seller_click_rt_db11_wk': 39.65381093647059,\n",
       " 'user_click_days': 8.416038175818182,\n",
       " 'user_add_to_favorite_cnt': 14.405524338322587,\n",
       " 'seller_purchase_days': 14.298809678933326,\n",
       " 'user_seller_add_to_cart_cnt_db11_mth': 33.4829102,\n",
       " 'user_seller_add_to_cart_cnt': 6.53906155,\n",
       " 'user_seller_click_rt_db11_mth': 7.971028966666666,\n",
       " 'user_seller_brand_cnt': 172.37505421428574,\n",
       " 'user_add_to_cart_cnt': 45.429240298888885,\n",
       " 'user_seller_purchase_rt_db11': 65.16813283894737,\n",
       " 'user_seller_add_to_favorite_cnt_db11_wk': 32.576484294,\n",
       " 'user_seller_purchase_rt_db11_wk': 3.4701767,\n",
       " 'user_seller_add_to_cart_cnt_db11_wk': 8.98468018,\n",
       " 'user_seller_purchase_cnt_db11_mth': 8.865806585,\n",
       " 'user_add_to_cart_days': 62.48189896,\n",
       " 'user_seller_add_to_favorite_cnt_db11_mth': 9.49356079,\n",
       " 'user_seller_add_to_favorite_rt_db11_wk': 11.1861038}"
      ]
     },
     "execution_count": 52,
     "metadata": {},
     "output_type": "execute_result"
    }
   ],
   "source": [
    "XGB_model.get_booster().get_score(importance_type='gain')"
   ]
  },
  {
   "cell_type": "code",
   "execution_count": 57,
   "metadata": {},
   "outputs": [
    {
     "data": {
      "image/png": "[encoded data removed]",
      "text/plain": [
       "<Figure size 432x288 with 1 Axes>"
      ]
     },
     "metadata": {
      "needs_background": "light"
     },
     "output_type": "display_data"
    },
    {
     "data": {
      "text/plain": [
       "<Figure size 432x288 with 0 Axes>"
      ]
     },
     "metadata": {},
     "output_type": "display_data"
    }
   ],
   "source": [
    "plot_importance(XGB_model, max_num_features=20)\n",
    "pyplot.show()\n",
    "pyplot.savefig('C:/Stats Consulting/feature_importance_plot.pdf')"
   ]
  },
  {
   "cell_type": "code",
   "execution_count": 63,
   "metadata": {},
   "outputs": [
    {
     "data": {
      "image/png": "[encoded data removed]",
      "text/plain": [
       "<Figure size 432x288 with 1 Axes>"
      ]
     },
     "metadata": {
      "needs_background": "light"
     },
     "output_type": "display_data"
    },
    {
     "data": {
      "text/plain": [
       "<Figure size 432x288 with 0 Axes>"
      ]
     },
     "metadata": {},
     "output_type": "display_data"
    }
   ],
   "source": [
    "plot_importance(XGB_model.get_booster().get_score(importance_type='total_gain'), max_num_features=20)\n",
    "pyplot.show()\n",
    "pyplot.savefig('C:/Stats Consulting/feature_importance_plot_gain.pdf')"
   ]
  },
  {
   "cell_type": "code",
   "execution_count": null,
   "metadata": {},
   "outputs": [],
   "source": []
  }
 ],
 "metadata": {
  "kernelspec": {
   "display_name": "Python 3",
   "language": "python",
   "name": "python3"
  },
  "language_info": {
   "codemirror_mode": {
    "name": "ipython",
    "version": 3
   },
   "file_extension": ".py",
   "mimetype": "text/x-python",
   "name": "python",
   "nbconvert_exporter": "python",
   "pygments_lexer": "ipython3",
   "version": "3.7.4"
  }
 },
 "nbformat": 4,
 "nbformat_minor": 2
}
